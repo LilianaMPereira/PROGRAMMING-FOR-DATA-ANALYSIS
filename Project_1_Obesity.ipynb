{
 "cells": [
  {
   "cell_type": "markdown",
   "id": "31cedcb3",
   "metadata": {},
   "source": [
    "<h1>Programming for Data Analysis Project 2022</h1>\n",
    "<hr>"
   ]
  },
  {
   "cell_type": "markdown",
   "id": "481f913d",
   "metadata": {},
   "source": [
    "Author: Liliana Pereira"
   ]
  },
  {
   "cell_type": "markdown",
   "id": "92fe256d",
   "metadata": {},
   "source": [
    "</h2>Project Description</h2>\n",
    "<hr>\n",
    "\n",
    "This project's goal is to simulate a real-world phenomena in order to produce a dataset. Instead of gathering data, I will model and synthesize data from a dataset using Python and Python-based tools.\n",
    "<hr>"
   ]
  },
  {
   "cell_type": "markdown",
   "id": "f7809419",
   "metadata": {},
   "source": [
    "<h2>Context - About the dataset chosen</h2>\n",
    "<hr>\n",
    "\n",
    "Hospitals in California that perform a certain number of weight-loss surgeries.\n",
    "The dataset includes statistics on five different types of bariatric (weight reduction) procedures carried out in California hospitals: open Roux-en-Y gastric bypass, laparoscopic Roux-en-Y gastric bypass, laparoscopic adjustable gastric banding, vertical sleeve gastrectomy, and biliopancreatic diversion. Due to coding changes from ICD-9-CM to ICD-10-CM/PCS, which took effect on October 1, 2015, the 2015 Data are given for January through September. Comparisons between years should be done with caution because results from prior years were based on 12 months of data whereas results from 2015 were based on 9 months of data. The surgeries carried out in outpatient settings are not included in this dataset."
   ]
  },
  {
   "cell_type": "markdown",
   "id": "46a9d501",
   "metadata": {},
   "source": [
    "<h2>Importing libraries</h2>\n",
    "\n",
    "Here we are importing all the libraries required for the case study."
   ]
  },
  {
   "cell_type": "code",
   "execution_count": 1,
   "id": "24182967",
   "metadata": {},
   "outputs": [],
   "source": [
    "#!pip install -U seaborn\n",
    "#!pip install -U scipy\n",
    "#!pip install -U pandas\n",
    "\n",
    "#conda install geopandas\n",
    "#conda install -c conda-forge descartes"
   ]
  },
  {
   "cell_type": "code",
   "execution_count": 2,
   "id": "98da945b",
   "metadata": {},
   "outputs": [],
   "source": [
    "#Importing the requering libraries\n",
    "import pandas as pd\n",
    "import matplotlib.pyplot as plt\n",
    "from sklearn.preprocessing import LabelEncoder\n",
    "import geopandas as gpd\n",
    "\n",
    "import numpy as np\n",
    "import scipy.stats as stats\n",
    "\n",
    "#import seaborn as sns\n",
    "\n",
    "#from scipy.stats import norm\n",
    "#from sklearn.model_selection import train_test_split"
   ]
  },
  {
   "cell_type": "markdown",
   "id": "2b0203e6",
   "metadata": {},
   "source": [
    "First step is have the libraries imported. After these libraries have been imported, the data is imported. To obtain the iris dataset, I chose access the pandas library."
   ]
  },
  {
   "cell_type": "code",
   "execution_count": 3,
   "id": "d3cdb96b",
   "metadata": {},
   "outputs": [],
   "source": [
    "# Variable .\n",
    "# od = obesity data\n",
    "\n",
    "od = pd.read_csv(\"number-of-weight-loss-surgeries-performed-in-california-hospitals.csv\")"
   ]
  },
  {
   "cell_type": "code",
   "execution_count": 4,
   "id": "f5c0048b",
   "metadata": {},
   "outputs": [],
   "source": [
    "# I renamed the column name for better understanding\n",
    "\n",
    "od.rename(columns = {'# of Cases':'NCases'}, inplace = True)\n",
    "od['NCases'] = od['NCases'].fillna(0)\n",
    "od['NCases'] = od['NCases'].astype(int)"
   ]
  },
  {
   "cell_type": "code",
   "execution_count": 5,
   "id": "fe951cc2",
   "metadata": {},
   "outputs": [
    {
     "data": {
      "text/html": [
       "<div>\n",
       "<style scoped>\n",
       "    .dataframe tbody tr th:only-of-type {\n",
       "        vertical-align: middle;\n",
       "    }\n",
       "\n",
       "    .dataframe tbody tr th {\n",
       "        vertical-align: top;\n",
       "    }\n",
       "\n",
       "    .dataframe thead th {\n",
       "        text-align: right;\n",
       "    }\n",
       "</style>\n",
       "<table border=\"1\" class=\"dataframe\">\n",
       "  <thead>\n",
       "    <tr style=\"text-align: right;\">\n",
       "      <th></th>\n",
       "      <th>Year</th>\n",
       "      <th>County</th>\n",
       "      <th>Hospital</th>\n",
       "      <th>OSHPDID</th>\n",
       "      <th>Surgery</th>\n",
       "      <th>NCases</th>\n",
       "      <th>Location 1</th>\n",
       "    </tr>\n",
       "  </thead>\n",
       "  <tbody>\n",
       "    <tr>\n",
       "      <th>0</th>\n",
       "      <td>2006</td>\n",
       "      <td>Placer</td>\n",
       "      <td>Sutter Auburn Faith Hospital</td>\n",
       "      <td>106310791.0</td>\n",
       "      <td>LAPRYGB</td>\n",
       "      <td>37</td>\n",
       "      <td>(38.94452, -121.0982)</td>\n",
       "    </tr>\n",
       "    <tr>\n",
       "      <th>1</th>\n",
       "      <td>2009</td>\n",
       "      <td>Orange</td>\n",
       "      <td>Chapman Medical Center</td>\n",
       "      <td>106301140.0</td>\n",
       "      <td>VSG</td>\n",
       "      <td>6</td>\n",
       "      <td>(33.78785, -117.82586)</td>\n",
       "    </tr>\n",
       "    <tr>\n",
       "      <th>2</th>\n",
       "      <td>2011</td>\n",
       "      <td>Placer</td>\n",
       "      <td>Sutter Roseville Medical Center</td>\n",
       "      <td>106311000.0</td>\n",
       "      <td>LAPBAND</td>\n",
       "      <td>6</td>\n",
       "      <td>(38.76439, -121.25055)</td>\n",
       "    </tr>\n",
       "    <tr>\n",
       "      <th>3</th>\n",
       "      <td>2012</td>\n",
       "      <td>Los Angeles</td>\n",
       "      <td>Marina Del Rey Hospital</td>\n",
       "      <td>106190500.0</td>\n",
       "      <td>LAPBAND</td>\n",
       "      <td>35</td>\n",
       "      <td>(33.98125, -118.43971)</td>\n",
       "    </tr>\n",
       "    <tr>\n",
       "      <th>4</th>\n",
       "      <td>2012</td>\n",
       "      <td>San Mateo</td>\n",
       "      <td>Sequoia Hospital</td>\n",
       "      <td>106410891.0</td>\n",
       "      <td>VSG</td>\n",
       "      <td>6</td>\n",
       "      <td>(37.48129, -122.25377)</td>\n",
       "    </tr>\n",
       "  </tbody>\n",
       "</table>\n",
       "</div>"
      ],
      "text/plain": [
       "   Year       County                         Hospital      OSHPDID  Surgery  \\\n",
       "0  2006       Placer     Sutter Auburn Faith Hospital  106310791.0  LAPRYGB   \n",
       "1  2009       Orange           Chapman Medical Center  106301140.0      VSG   \n",
       "2  2011       Placer  Sutter Roseville Medical Center  106311000.0  LAPBAND   \n",
       "3  2012  Los Angeles          Marina Del Rey Hospital  106190500.0  LAPBAND   \n",
       "4  2012    San Mateo                 Sequoia Hospital  106410891.0      VSG   \n",
       "\n",
       "   NCases              Location 1  \n",
       "0      37   (38.94452, -121.0982)  \n",
       "1       6  (33.78785, -117.82586)  \n",
       "2       6  (38.76439, -121.25055)  \n",
       "3      35  (33.98125, -118.43971)  \n",
       "4       6  (37.48129, -122.25377)  "
      ]
     },
     "execution_count": 5,
     "metadata": {},
     "output_type": "execute_result"
    }
   ],
   "source": [
    "# Cheking the data. Printing the first 5 lines of data frame\n",
    "\n",
    "od.head()"
   ]
  },
  {
   "cell_type": "markdown",
   "id": "42e0727b",
   "metadata": {},
   "source": [
    "<h2>Understanding the Dataset</h2>"
   ]
  },
  {
   "cell_type": "code",
   "execution_count": 6,
   "id": "bcbdbf30",
   "metadata": {},
   "outputs": [
    {
     "data": {
      "text/plain": [
       "(5400, 7)"
      ]
     },
     "execution_count": 6,
     "metadata": {},
     "output_type": "execute_result"
    }
   ],
   "source": [
    "od.shape"
   ]
  },
  {
   "cell_type": "markdown",
   "id": "52f40146",
   "metadata": {},
   "source": [
    "A brief check confirms the dataset has 5400 rows and 7 columns."
   ]
  },
  {
   "cell_type": "markdown",
   "id": "b95d0727",
   "metadata": {},
   "source": [
    "Data dictionary for bariatric surgery\n",
    "\n",
    "1. Year - Year of Discharge\n",
    "2. County - County in which the hospital is located\n",
    "3. Hospital - Name of Hospital Reporting\n",
    "4. OSHPDID - A unique number established by the Office of Statewide Health Planning and Development (OSHPD) for identifying facilities and used in the Licensed Facility Information System (LFIS). The first three numbers identify the type of facility, the next two represent the county number, and the last five are randomly assigned within each county.\n",
    "5. Surgery - Type of Weight Loss (Bariatric) Surgeries\n",
    "6. NCases - Type of Weight Loss (Bariatric) Procedure Counts\n",
    "7. Location 1 - Longitude of hospital location and Latitude of hospital location"
   ]
  },
  {
   "cell_type": "markdown",
   "id": "577f9b83",
   "metadata": {},
   "source": [
    "<h2>Exploratory Data Analysis</h2>\n",
    "<hr>"
   ]
  },
  {
   "cell_type": "markdown",
   "id": "bd53e857",
   "metadata": {},
   "source": [
    "Here we will start analyzing the general data"
   ]
  },
  {
   "cell_type": "code",
   "execution_count": 7,
   "id": "f6fb19ba",
   "metadata": {},
   "outputs": [
    {
     "name": "stdout",
     "output_type": "stream",
     "text": [
      "<class 'pandas.core.frame.DataFrame'>\n",
      "RangeIndex: 5400 entries, 0 to 5399\n",
      "Data columns (total 7 columns):\n",
      " #   Column      Non-Null Count  Dtype  \n",
      "---  ------      --------------  -----  \n",
      " 0   Year        5400 non-null   int64  \n",
      " 1   County      5345 non-null   object \n",
      " 2   Hospital    5400 non-null   object \n",
      " 3   OSHPDID     5345 non-null   float64\n",
      " 4   Surgery     5400 non-null   object \n",
      " 5   NCases      5400 non-null   int32  \n",
      " 6   Location 1  5345 non-null   object \n",
      "dtypes: float64(1), int32(1), int64(1), object(4)\n",
      "memory usage: 274.3+ KB\n"
     ]
    }
   ],
   "source": [
    "od.info()"
   ]
  },
  {
   "cell_type": "markdown",
   "id": "8b941a6a",
   "metadata": {},
   "source": [
    "Here we have 5.4k rows with 7 columns for each. It is composed of 2 float types, 1 int types and 4 object types."
   ]
  },
  {
   "cell_type": "code",
   "execution_count": 8,
   "id": "3b0ea9e4",
   "metadata": {},
   "outputs": [
    {
     "data": {
      "text/plain": [
       "Year           0\n",
       "County        55\n",
       "Hospital       0\n",
       "OSHPDID       55\n",
       "Surgery        0\n",
       "NCases         0\n",
       "Location 1    55\n",
       "dtype: int64"
      ]
     },
     "execution_count": 8,
     "metadata": {},
     "output_type": "execute_result"
    }
   ],
   "source": [
    "od.isnull().sum()"
   ]
  },
  {
   "cell_type": "markdown",
   "id": "5e23068a",
   "metadata": {},
   "source": [
    "So, we can see there are almost 2.4k null values in the # of Cases and Location 1 we have 55 and a very few null values in County and OSHPDID."
   ]
  },
  {
   "cell_type": "code",
   "execution_count": 9,
   "id": "649f8b6a",
   "metadata": {},
   "outputs": [
    {
     "data": {
      "text/html": [
       "<div>\n",
       "<style scoped>\n",
       "    .dataframe tbody tr th:only-of-type {\n",
       "        vertical-align: middle;\n",
       "    }\n",
       "\n",
       "    .dataframe tbody tr th {\n",
       "        vertical-align: top;\n",
       "    }\n",
       "\n",
       "    .dataframe thead th {\n",
       "        text-align: right;\n",
       "    }\n",
       "</style>\n",
       "<table border=\"1\" class=\"dataframe\">\n",
       "  <thead>\n",
       "    <tr style=\"text-align: right;\">\n",
       "      <th></th>\n",
       "      <th>Year</th>\n",
       "      <th>OSHPDID</th>\n",
       "      <th>NCases</th>\n",
       "    </tr>\n",
       "  </thead>\n",
       "  <tbody>\n",
       "    <tr>\n",
       "      <th>count</th>\n",
       "      <td>5400.000000</td>\n",
       "      <td>5.345000e+03</td>\n",
       "      <td>5400.000000</td>\n",
       "    </tr>\n",
       "    <tr>\n",
       "      <th>mean</th>\n",
       "      <td>2010.132407</td>\n",
       "      <td>1.062773e+08</td>\n",
       "      <td>56.348148</td>\n",
       "    </tr>\n",
       "    <tr>\n",
       "      <th>std</th>\n",
       "      <td>3.222913</td>\n",
       "      <td>1.326982e+05</td>\n",
       "      <td>451.601395</td>\n",
       "    </tr>\n",
       "    <tr>\n",
       "      <th>min</th>\n",
       "      <td>2005.000000</td>\n",
       "      <td>1.060108e+08</td>\n",
       "      <td>0.000000</td>\n",
       "    </tr>\n",
       "    <tr>\n",
       "      <th>25%</th>\n",
       "      <td>2007.000000</td>\n",
       "      <td>1.061904e+08</td>\n",
       "      <td>0.000000</td>\n",
       "    </tr>\n",
       "    <tr>\n",
       "      <th>50%</th>\n",
       "      <td>2010.000000</td>\n",
       "      <td>1.063011e+08</td>\n",
       "      <td>1.000000</td>\n",
       "    </tr>\n",
       "    <tr>\n",
       "      <th>75%</th>\n",
       "      <td>2013.000000</td>\n",
       "      <td>1.063708e+08</td>\n",
       "      <td>19.000000</td>\n",
       "    </tr>\n",
       "    <tr>\n",
       "      <th>max</th>\n",
       "      <td>2015.000000</td>\n",
       "      <td>1.065641e+08</td>\n",
       "      <td>10511.000000</td>\n",
       "    </tr>\n",
       "  </tbody>\n",
       "</table>\n",
       "</div>"
      ],
      "text/plain": [
       "              Year       OSHPDID        NCases\n",
       "count  5400.000000  5.345000e+03   5400.000000\n",
       "mean   2010.132407  1.062773e+08     56.348148\n",
       "std       3.222913  1.326982e+05    451.601395\n",
       "min    2005.000000  1.060108e+08      0.000000\n",
       "25%    2007.000000  1.061904e+08      0.000000\n",
       "50%    2010.000000  1.063011e+08      1.000000\n",
       "75%    2013.000000  1.063708e+08     19.000000\n",
       "max    2015.000000  1.065641e+08  10511.000000"
      ]
     },
     "execution_count": 9,
     "metadata": {},
     "output_type": "execute_result"
    }
   ],
   "source": [
    "od.describe()"
   ]
  },
  {
   "cell_type": "markdown",
   "id": "d1082996",
   "metadata": {},
   "source": [
    "-> It is clear from this that there are 100.754967 cases on average.\n",
    "\n",
    "-> The standard deviation of the cases is 600.204387."
   ]
  },
  {
   "cell_type": "code",
   "execution_count": 10,
   "id": "fd9894d9",
   "metadata": {},
   "outputs": [
    {
     "data": {
      "text/plain": [
       "Year           11\n",
       "County         31\n",
       "Hospital      177\n",
       "OSHPDID       171\n",
       "Surgery         8\n",
       "NCases        358\n",
       "Location 1    171\n",
       "dtype: int64"
      ]
     },
     "execution_count": 10,
     "metadata": {},
     "output_type": "execute_result"
    }
   ],
   "source": [
    "\n",
    "# Insight about unique values\n",
    "od.nunique()"
   ]
  },
  {
   "cell_type": "code",
   "execution_count": 11,
   "id": "e2885c67",
   "metadata": {},
   "outputs": [
    {
     "data": {
      "text/plain": [
       "0"
      ]
     },
     "execution_count": 11,
     "metadata": {},
     "output_type": "execute_result"
    }
   ],
   "source": [
    "# Making sure if any duplicatd values.\n",
    "od.duplicated().sum()"
   ]
  },
  {
   "cell_type": "markdown",
   "id": "25eff899",
   "metadata": {},
   "source": [
    "We do not have any duplicate rows in our dataset."
   ]
  },
  {
   "cell_type": "code",
   "execution_count": null,
   "id": "d1d56346",
   "metadata": {},
   "outputs": [],
   "source": []
  },
  {
   "cell_type": "markdown",
   "id": "668828c2",
   "metadata": {},
   "source": [
    "Observando o tipo de cirugia praticada nos hospitais "
   ]
  },
  {
   "cell_type": "code",
   "execution_count": 12,
   "id": "ea149d6e",
   "metadata": {
    "scrolled": true
   },
   "outputs": [
    {
     "data": {
      "text/plain": [
       "array(['LAPRYGB', 'VSG', 'LAPBAND', 'OPENRYGB', 'BPD', 'LapBand',\n",
       "       'LapRYGB', 'OpenRYGB'], dtype=object)"
      ]
     },
     "execution_count": 12,
     "metadata": {},
     "output_type": "execute_result"
    }
   ],
   "source": [
    "od['Surgery'].unique()"
   ]
  },
  {
   "cell_type": "markdown",
   "id": "f3e44b4e",
   "metadata": {},
   "source": [
    "The result of this analysis was 8, where the same case sensitive surgery was detected for surgeries with the same name"
   ]
  },
  {
   "cell_type": "code",
   "execution_count": 13,
   "id": "218bae59",
   "metadata": {},
   "outputs": [],
   "source": [
    "od['Surgery'] = od['Surgery'].str.upper()"
   ]
  },
  {
   "cell_type": "code",
   "execution_count": 14,
   "id": "3d6c1afd",
   "metadata": {},
   "outputs": [
    {
     "name": "stdout",
     "output_type": "stream",
     "text": [
      "['LAPRYGB' 'VSG' 'LAPBAND' 'OPENRYGB' 'BPD']\n",
      "5\n"
     ]
    }
   ],
   "source": [
    "SurgeryUnique = od['Surgery'].nunique()\n",
    "print(od['Surgery'].unique())\n",
    "print(SurgeryUnique)"
   ]
  },
  {
   "cell_type": "code",
   "execution_count": 15,
   "id": "005abfc6",
   "metadata": {},
   "outputs": [],
   "source": [
    "LAPRYGB = od.loc[od['Surgery'] == 'LAPRYGB']\n",
    "\n",
    "VSG = od.loc[od['Surgery'] == 'VSG']\n",
    "\n",
    "LAPBAND = od.loc[od['Surgery'] == 'LAPBAND']\n",
    "\n",
    "OPENRYGB = od.loc[od['Surgery'] == 'OPENRYGB']\n",
    "\n",
    "BPD = od.loc[od['Surgery'] == 'BPD']"
   ]
  },
  {
   "cell_type": "code",
   "execution_count": 16,
   "id": "1eb29f31",
   "metadata": {
    "scrolled": true
   },
   "outputs": [
    {
     "data": {
      "text/html": [
       "<div>\n",
       "<style scoped>\n",
       "    .dataframe tbody tr th:only-of-type {\n",
       "        vertical-align: middle;\n",
       "    }\n",
       "\n",
       "    .dataframe tbody tr th {\n",
       "        vertical-align: top;\n",
       "    }\n",
       "\n",
       "    .dataframe thead th {\n",
       "        text-align: right;\n",
       "    }\n",
       "</style>\n",
       "<table border=\"1\" class=\"dataframe\">\n",
       "  <thead>\n",
       "    <tr style=\"text-align: right;\">\n",
       "      <th></th>\n",
       "      <th>Year</th>\n",
       "      <th>County</th>\n",
       "      <th>Hospital</th>\n",
       "      <th>OSHPDID</th>\n",
       "      <th>Surgery</th>\n",
       "      <th>NCases</th>\n",
       "      <th>Location 1</th>\n",
       "    </tr>\n",
       "  </thead>\n",
       "  <tbody>\n",
       "    <tr>\n",
       "      <th>0</th>\n",
       "      <td>2006</td>\n",
       "      <td>Placer</td>\n",
       "      <td>Sutter Auburn Faith Hospital</td>\n",
       "      <td>106310791.0</td>\n",
       "      <td>LAPRYGB</td>\n",
       "      <td>37</td>\n",
       "      <td>(38.94452, -121.0982)</td>\n",
       "    </tr>\n",
       "    <tr>\n",
       "      <th>8</th>\n",
       "      <td>2005</td>\n",
       "      <td>Riverside</td>\n",
       "      <td>Southwest Healthcare System – Murrieta</td>\n",
       "      <td>106334068.0</td>\n",
       "      <td>LAPRYGB</td>\n",
       "      <td>464</td>\n",
       "      <td>(33.55788, -117.18488)</td>\n",
       "    </tr>\n",
       "    <tr>\n",
       "      <th>13</th>\n",
       "      <td>2005</td>\n",
       "      <td>NaN</td>\n",
       "      <td>STATEWIDE</td>\n",
       "      <td>NaN</td>\n",
       "      <td>LAPRYGB</td>\n",
       "      <td>10185</td>\n",
       "      <td>NaN</td>\n",
       "    </tr>\n",
       "    <tr>\n",
       "      <th>18</th>\n",
       "      <td>2006</td>\n",
       "      <td>NaN</td>\n",
       "      <td>STATEWIDE</td>\n",
       "      <td>NaN</td>\n",
       "      <td>LAPRYGB</td>\n",
       "      <td>10511</td>\n",
       "      <td>NaN</td>\n",
       "    </tr>\n",
       "    <tr>\n",
       "      <th>23</th>\n",
       "      <td>2007</td>\n",
       "      <td>NaN</td>\n",
       "      <td>STATEWIDE</td>\n",
       "      <td>NaN</td>\n",
       "      <td>LAPRYGB</td>\n",
       "      <td>9264</td>\n",
       "      <td>NaN</td>\n",
       "    </tr>\n",
       "  </tbody>\n",
       "</table>\n",
       "</div>"
      ],
      "text/plain": [
       "    Year     County                                Hospital      OSHPDID  \\\n",
       "0   2006     Placer            Sutter Auburn Faith Hospital  106310791.0   \n",
       "8   2005  Riverside  Southwest Healthcare System – Murrieta  106334068.0   \n",
       "13  2005        NaN                               STATEWIDE          NaN   \n",
       "18  2006        NaN                               STATEWIDE          NaN   \n",
       "23  2007        NaN                               STATEWIDE          NaN   \n",
       "\n",
       "    Surgery  NCases              Location 1  \n",
       "0   LAPRYGB      37   (38.94452, -121.0982)  \n",
       "8   LAPRYGB     464  (33.55788, -117.18488)  \n",
       "13  LAPRYGB   10185                     NaN  \n",
       "18  LAPRYGB   10511                     NaN  \n",
       "23  LAPRYGB    9264                     NaN  "
      ]
     },
     "execution_count": 16,
     "metadata": {},
     "output_type": "execute_result"
    }
   ],
   "source": [
    "# First values of these data frames\n",
    "LAPRYGB.head()"
   ]
  },
  {
   "cell_type": "code",
   "execution_count": 17,
   "id": "2001557d",
   "metadata": {},
   "outputs": [],
   "source": [
    "SurgerySum = od.groupby(['Surgery']).NCases.sum().reset_index()"
   ]
  },
  {
   "cell_type": "code",
   "execution_count": 18,
   "id": "7ba17d03",
   "metadata": {
    "scrolled": true
   },
   "outputs": [
    {
     "data": {
      "text/html": [
       "<div>\n",
       "<style scoped>\n",
       "    .dataframe tbody tr th:only-of-type {\n",
       "        vertical-align: middle;\n",
       "    }\n",
       "\n",
       "    .dataframe tbody tr th {\n",
       "        vertical-align: top;\n",
       "    }\n",
       "\n",
       "    .dataframe thead th {\n",
       "        text-align: right;\n",
       "    }\n",
       "</style>\n",
       "<table border=\"1\" class=\"dataframe\">\n",
       "  <thead>\n",
       "    <tr style=\"text-align: right;\">\n",
       "      <th></th>\n",
       "      <th>Surgery</th>\n",
       "      <th>NCases</th>\n",
       "    </tr>\n",
       "  </thead>\n",
       "  <tbody>\n",
       "    <tr>\n",
       "      <th>0</th>\n",
       "      <td>BPD</td>\n",
       "      <td>3688</td>\n",
       "    </tr>\n",
       "    <tr>\n",
       "      <th>1</th>\n",
       "      <td>LAPBAND</td>\n",
       "      <td>30252</td>\n",
       "    </tr>\n",
       "    <tr>\n",
       "      <th>2</th>\n",
       "      <td>LAPRYGB</td>\n",
       "      <td>174804</td>\n",
       "    </tr>\n",
       "    <tr>\n",
       "      <th>3</th>\n",
       "      <td>OPENRYGB</td>\n",
       "      <td>12214</td>\n",
       "    </tr>\n",
       "    <tr>\n",
       "      <th>4</th>\n",
       "      <td>VSG</td>\n",
       "      <td>83322</td>\n",
       "    </tr>\n",
       "  </tbody>\n",
       "</table>\n",
       "</div>"
      ],
      "text/plain": [
       "    Surgery  NCases\n",
       "0       BPD    3688\n",
       "1   LAPBAND   30252\n",
       "2   LAPRYGB  174804\n",
       "3  OPENRYGB   12214\n",
       "4       VSG   83322"
      ]
     },
     "execution_count": 18,
     "metadata": {},
     "output_type": "execute_result"
    }
   ],
   "source": [
    "SurgerySum"
   ]
  },
  {
   "cell_type": "code",
   "execution_count": 19,
   "id": "2acf6ba9",
   "metadata": {
    "scrolled": true
   },
   "outputs": [
    {
     "data": {
      "text/plain": [
       "<AxesSubplot: >"
      ]
     },
     "execution_count": 19,
     "metadata": {},
     "output_type": "execute_result"
    },
    {
     "data": {
      "image/png": "[encoded data removed]",
      "text/plain": [
       "<Figure size 640x480 with 1 Axes>"
      ]
     },
     "metadata": {},
     "output_type": "display_data"
    }
   ],
   "source": [
    "SurgerySum.plot(kind = 'barh')"
   ]
  },
  {
   "cell_type": "code",
   "execution_count": 20,
   "id": "2b4d996b",
   "metadata": {},
   "outputs": [],
   "source": [
    "HospitalSum = od.groupby(['Hospital']).NCases.sum().reset_index()"
   ]
  },
  {
   "cell_type": "code",
   "execution_count": 21,
   "id": "73f8752f",
   "metadata": {
    "scrolled": true
   },
   "outputs": [
    {
     "data": {
      "text/html": [
       "<div>\n",
       "<style scoped>\n",
       "    .dataframe tbody tr th:only-of-type {\n",
       "        vertical-align: middle;\n",
       "    }\n",
       "\n",
       "    .dataframe tbody tr th {\n",
       "        vertical-align: top;\n",
       "    }\n",
       "\n",
       "    .dataframe thead th {\n",
       "        text-align: right;\n",
       "    }\n",
       "</style>\n",
       "<table border=\"1\" class=\"dataframe\">\n",
       "  <thead>\n",
       "    <tr style=\"text-align: right;\">\n",
       "      <th></th>\n",
       "      <th>Hospital</th>\n",
       "      <th>NCases</th>\n",
       "    </tr>\n",
       "  </thead>\n",
       "  <tbody>\n",
       "    <tr>\n",
       "      <th>0</th>\n",
       "      <td>Adventist Medical Center</td>\n",
       "      <td>0</td>\n",
       "    </tr>\n",
       "    <tr>\n",
       "      <th>1</th>\n",
       "      <td>Alta Bates Summit Medical Center</td>\n",
       "      <td>105</td>\n",
       "    </tr>\n",
       "    <tr>\n",
       "      <th>2</th>\n",
       "      <td>Alta Bates Summit Medical Center – Summit Camp...</td>\n",
       "      <td>1501</td>\n",
       "    </tr>\n",
       "    <tr>\n",
       "      <th>3</th>\n",
       "      <td>Alvarado Hospital</td>\n",
       "      <td>1021</td>\n",
       "    </tr>\n",
       "    <tr>\n",
       "      <th>4</th>\n",
       "      <td>Arrowhead Regional Medical Center</td>\n",
       "      <td>0</td>\n",
       "    </tr>\n",
       "    <tr>\n",
       "      <th>...</th>\n",
       "      <td>...</td>\n",
       "      <td>...</td>\n",
       "    </tr>\n",
       "    <tr>\n",
       "      <th>172</th>\n",
       "      <td>Valley Memorial Hospital</td>\n",
       "      <td>352</td>\n",
       "    </tr>\n",
       "    <tr>\n",
       "      <th>173</th>\n",
       "      <td>Valleycare Medical Center</td>\n",
       "      <td>1272</td>\n",
       "    </tr>\n",
       "    <tr>\n",
       "      <th>174</th>\n",
       "      <td>Ventura County Medical Center</td>\n",
       "      <td>167</td>\n",
       "    </tr>\n",
       "    <tr>\n",
       "      <th>175</th>\n",
       "      <td>Watsonville Community Hospital</td>\n",
       "      <td>9</td>\n",
       "    </tr>\n",
       "    <tr>\n",
       "      <th>176</th>\n",
       "      <td>West Hills Hospital and Medical Center</td>\n",
       "      <td>593</td>\n",
       "    </tr>\n",
       "  </tbody>\n",
       "</table>\n",
       "<p>177 rows × 2 columns</p>\n",
       "</div>"
      ],
      "text/plain": [
       "                                              Hospital  NCases\n",
       "0                             Adventist Medical Center       0\n",
       "1                     Alta Bates Summit Medical Center     105\n",
       "2    Alta Bates Summit Medical Center – Summit Camp...    1501\n",
       "3                                    Alvarado Hospital    1021\n",
       "4                    Arrowhead Regional Medical Center       0\n",
       "..                                                 ...     ...\n",
       "172                           Valley Memorial Hospital     352\n",
       "173                          Valleycare Medical Center    1272\n",
       "174                      Ventura County Medical Center     167\n",
       "175                     Watsonville Community Hospital       9\n",
       "176             West Hills Hospital and Medical Center     593\n",
       "\n",
       "[177 rows x 2 columns]"
      ]
     },
     "execution_count": 21,
     "metadata": {},
     "output_type": "execute_result"
    }
   ],
   "source": [
    "HospitalSum"
   ]
  },
  {
   "cell_type": "markdown",
   "id": "e1483b7a",
   "metadata": {},
   "source": [
    "<h2>Data Analysis and Visualization</h2>"
   ]
  },
  {
   "cell_type": "markdown",
   "id": "be2b2db3",
   "metadata": {},
   "source": [
    "Surgery Type for Weight Loss (Bariatric) Surgeries"
   ]
  },
  {
   "cell_type": "code",
   "execution_count": null,
   "id": "f67d8685",
   "metadata": {},
   "outputs": [],
   "source": []
  },
  {
   "cell_type": "code",
   "execution_count": null,
   "id": "f5f1e60b",
   "metadata": {},
   "outputs": [],
   "source": []
  },
  {
   "cell_type": "code",
   "execution_count": null,
   "id": "3d05847f",
   "metadata": {},
   "outputs": [],
   "source": []
  },
  {
   "cell_type": "code",
   "execution_count": null,
   "id": "86eaf2b5",
   "metadata": {},
   "outputs": [],
   "source": []
  },
  {
   "cell_type": "code",
   "execution_count": 22,
   "id": "f2578a57",
   "metadata": {},
   "outputs": [
    {
     "data": {
      "text/html": [
       "<div>\n",
       "<style scoped>\n",
       "    .dataframe tbody tr th:only-of-type {\n",
       "        vertical-align: middle;\n",
       "    }\n",
       "\n",
       "    .dataframe tbody tr th {\n",
       "        vertical-align: top;\n",
       "    }\n",
       "\n",
       "    .dataframe thead th {\n",
       "        text-align: right;\n",
       "    }\n",
       "</style>\n",
       "<table border=\"1\" class=\"dataframe\">\n",
       "  <thead>\n",
       "    <tr style=\"text-align: right;\">\n",
       "      <th></th>\n",
       "      <th>Hospital</th>\n",
       "      <th>Hospital_encoded</th>\n",
       "    </tr>\n",
       "  </thead>\n",
       "  <tbody>\n",
       "    <tr>\n",
       "      <th>0</th>\n",
       "      <td>Sutter Auburn Faith Hospital</td>\n",
       "      <td>154</td>\n",
       "    </tr>\n",
       "    <tr>\n",
       "      <th>1</th>\n",
       "      <td>Chapman Medical Center</td>\n",
       "      <td>13</td>\n",
       "    </tr>\n",
       "    <tr>\n",
       "      <th>2</th>\n",
       "      <td>Sutter Roseville Medical Center</td>\n",
       "      <td>158</td>\n",
       "    </tr>\n",
       "    <tr>\n",
       "      <th>3</th>\n",
       "      <td>Marina Del Rey Hospital</td>\n",
       "      <td>85</td>\n",
       "    </tr>\n",
       "    <tr>\n",
       "      <th>4</th>\n",
       "      <td>Sequoia Hospital</td>\n",
       "      <td>142</td>\n",
       "    </tr>\n",
       "    <tr>\n",
       "      <th>...</th>\n",
       "      <td>...</td>\n",
       "      <td>...</td>\n",
       "    </tr>\n",
       "    <tr>\n",
       "      <th>5395</th>\n",
       "      <td>Ventura County Medical Center</td>\n",
       "      <td>174</td>\n",
       "    </tr>\n",
       "    <tr>\n",
       "      <th>5396</th>\n",
       "      <td>Ventura County Medical Center</td>\n",
       "      <td>174</td>\n",
       "    </tr>\n",
       "    <tr>\n",
       "      <th>5397</th>\n",
       "      <td>Ventura County Medical Center</td>\n",
       "      <td>174</td>\n",
       "    </tr>\n",
       "    <tr>\n",
       "      <th>5398</th>\n",
       "      <td>Ventura County Medical Center</td>\n",
       "      <td>174</td>\n",
       "    </tr>\n",
       "    <tr>\n",
       "      <th>5399</th>\n",
       "      <td>Ventura County Medical Center</td>\n",
       "      <td>174</td>\n",
       "    </tr>\n",
       "  </tbody>\n",
       "</table>\n",
       "<p>5400 rows × 2 columns</p>\n",
       "</div>"
      ],
      "text/plain": [
       "                             Hospital  Hospital_encoded\n",
       "0        Sutter Auburn Faith Hospital               154\n",
       "1              Chapman Medical Center                13\n",
       "2     Sutter Roseville Medical Center               158\n",
       "3             Marina Del Rey Hospital                85\n",
       "4                    Sequoia Hospital               142\n",
       "...                               ...               ...\n",
       "5395    Ventura County Medical Center               174\n",
       "5396    Ventura County Medical Center               174\n",
       "5397    Ventura County Medical Center               174\n",
       "5398    Ventura County Medical Center               174\n",
       "5399    Ventura County Medical Center               174\n",
       "\n",
       "[5400 rows x 2 columns]"
      ]
     },
     "execution_count": 22,
     "metadata": {},
     "output_type": "execute_result"
    }
   ],
   "source": [
    "od['Hospital_encoded'] = LabelEncoder().fit_transform(od['Hospital'])\n",
    "od[['Hospital', 'Hospital_encoded']] # special syntax to get just these two columns"
   ]
  },
  {
   "cell_type": "markdown",
   "id": "fcf775e4",
   "metadata": {},
   "source": [
    "It was important to include the Latitude and Longitude coordinates in distinct columns in order to do a location-based analysis. "
   ]
  },
  {
   "cell_type": "code",
   "execution_count": 23,
   "id": "f2e3926a",
   "metadata": {},
   "outputs": [],
   "source": [
    "#od['Location 1'].str.strip('()')                               \\\n",
    "#                   .str.split(', ', expand=True)                   \\\n",
    "#                  .rename(columns={0:'Latitude', 1:'Longitude'}) \n",
    "#split_data = od['Location 1'].str.strip(')').str.strip('(').str.split(', ')\n",
    "#od['lat'] = split_data.apply(lambda x: x[0])\n",
    "#od['long'] = split_data.apply(lambda x: x[1])\n",
    "\n",
    "od[['Latitude','Longitude']] = od['Location 1'].str.strip('()').str.split(\",\",expand=True,)\n",
    "\n"
   ]
  },
  {
   "cell_type": "code",
   "execution_count": 24,
   "id": "5d051927",
   "metadata": {},
   "outputs": [],
   "source": [
    "#split_Location"
   ]
  },
  {
   "cell_type": "code",
   "execution_count": 25,
   "id": "2c333342",
   "metadata": {},
   "outputs": [],
   "source": [
    "#frames = [od, split_Location]\n",
    "  \n",
    "#result = pd.concat(frames)\n",
    "#display(result)"
   ]
  },
  {
   "cell_type": "code",
   "execution_count": 26,
   "id": "e77fb138",
   "metadata": {
    "scrolled": true
   },
   "outputs": [
    {
     "data": {
      "text/html": [
       "<div>\n",
       "<style scoped>\n",
       "    .dataframe tbody tr th:only-of-type {\n",
       "        vertical-align: middle;\n",
       "    }\n",
       "\n",
       "    .dataframe tbody tr th {\n",
       "        vertical-align: top;\n",
       "    }\n",
       "\n",
       "    .dataframe thead th {\n",
       "        text-align: right;\n",
       "    }\n",
       "</style>\n",
       "<table border=\"1\" class=\"dataframe\">\n",
       "  <thead>\n",
       "    <tr style=\"text-align: right;\">\n",
       "      <th></th>\n",
       "      <th>Year</th>\n",
       "      <th>County</th>\n",
       "      <th>Hospital</th>\n",
       "      <th>OSHPDID</th>\n",
       "      <th>Surgery</th>\n",
       "      <th>NCases</th>\n",
       "      <th>Location 1</th>\n",
       "      <th>Hospital_encoded</th>\n",
       "      <th>Latitude</th>\n",
       "      <th>Longitude</th>\n",
       "    </tr>\n",
       "  </thead>\n",
       "  <tbody>\n",
       "    <tr>\n",
       "      <th>0</th>\n",
       "      <td>2006</td>\n",
       "      <td>Placer</td>\n",
       "      <td>Sutter Auburn Faith Hospital</td>\n",
       "      <td>106310791.0</td>\n",
       "      <td>LAPRYGB</td>\n",
       "      <td>37</td>\n",
       "      <td>(38.94452, -121.0982)</td>\n",
       "      <td>154</td>\n",
       "      <td>38.94452</td>\n",
       "      <td>-121.0982</td>\n",
       "    </tr>\n",
       "    <tr>\n",
       "      <th>1</th>\n",
       "      <td>2009</td>\n",
       "      <td>Orange</td>\n",
       "      <td>Chapman Medical Center</td>\n",
       "      <td>106301140.0</td>\n",
       "      <td>VSG</td>\n",
       "      <td>6</td>\n",
       "      <td>(33.78785, -117.82586)</td>\n",
       "      <td>13</td>\n",
       "      <td>33.78785</td>\n",
       "      <td>-117.82586</td>\n",
       "    </tr>\n",
       "    <tr>\n",
       "      <th>2</th>\n",
       "      <td>2011</td>\n",
       "      <td>Placer</td>\n",
       "      <td>Sutter Roseville Medical Center</td>\n",
       "      <td>106311000.0</td>\n",
       "      <td>LAPBAND</td>\n",
       "      <td>6</td>\n",
       "      <td>(38.76439, -121.25055)</td>\n",
       "      <td>158</td>\n",
       "      <td>38.76439</td>\n",
       "      <td>-121.25055</td>\n",
       "    </tr>\n",
       "    <tr>\n",
       "      <th>3</th>\n",
       "      <td>2012</td>\n",
       "      <td>Los Angeles</td>\n",
       "      <td>Marina Del Rey Hospital</td>\n",
       "      <td>106190500.0</td>\n",
       "      <td>LAPBAND</td>\n",
       "      <td>35</td>\n",
       "      <td>(33.98125, -118.43971)</td>\n",
       "      <td>85</td>\n",
       "      <td>33.98125</td>\n",
       "      <td>-118.43971</td>\n",
       "    </tr>\n",
       "    <tr>\n",
       "      <th>4</th>\n",
       "      <td>2012</td>\n",
       "      <td>San Mateo</td>\n",
       "      <td>Sequoia Hospital</td>\n",
       "      <td>106410891.0</td>\n",
       "      <td>VSG</td>\n",
       "      <td>6</td>\n",
       "      <td>(37.48129, -122.25377)</td>\n",
       "      <td>142</td>\n",
       "      <td>37.48129</td>\n",
       "      <td>-122.25377</td>\n",
       "    </tr>\n",
       "  </tbody>\n",
       "</table>\n",
       "</div>"
      ],
      "text/plain": [
       "   Year       County                         Hospital      OSHPDID  Surgery  \\\n",
       "0  2006       Placer     Sutter Auburn Faith Hospital  106310791.0  LAPRYGB   \n",
       "1  2009       Orange           Chapman Medical Center  106301140.0      VSG   \n",
       "2  2011       Placer  Sutter Roseville Medical Center  106311000.0  LAPBAND   \n",
       "3  2012  Los Angeles          Marina Del Rey Hospital  106190500.0  LAPBAND   \n",
       "4  2012    San Mateo                 Sequoia Hospital  106410891.0      VSG   \n",
       "\n",
       "   NCases              Location 1  Hospital_encoded  Latitude    Longitude  \n",
       "0      37   (38.94452, -121.0982)               154  38.94452    -121.0982  \n",
       "1       6  (33.78785, -117.82586)                13  33.78785   -117.82586  \n",
       "2       6  (38.76439, -121.25055)               158  38.76439   -121.25055  \n",
       "3      35  (33.98125, -118.43971)                85  33.98125   -118.43971  \n",
       "4       6  (37.48129, -122.25377)               142  37.48129   -122.25377  "
      ]
     },
     "execution_count": 26,
     "metadata": {},
     "output_type": "execute_result"
    }
   ],
   "source": [
    "od.head()"
   ]
  },
  {
   "cell_type": "code",
   "execution_count": 27,
   "id": "7b900904",
   "metadata": {},
   "outputs": [
    {
     "data": {
      "image/png": "[encoded data removed]",
      "text/plain": [
       "<Figure size 640x480 with 1 Axes>"
      ]
     },
     "metadata": {},
     "output_type": "display_data"
    }
   ],
   "source": [
    "plt.scatter(x=od['Longitude'].astype(str), y=od['Latitude'].astype(str))\n",
    "plt.show()"
   ]
  },
  {
   "cell_type": "markdown",
   "id": "62ebc1c0",
   "metadata": {},
   "source": [
    "<h2>Plot data on a World Map</h2>\n",
    "\n",
    "The data in the Pandas object needs to have location coordinates, which means latitude and longitude. "
   ]
  },
  {
   "cell_type": "code",
   "execution_count": 28,
   "id": "a86538e5",
   "metadata": {},
   "outputs": [
    {
     "ename": "NameError",
     "evalue": "name 'threshold' is not defined",
     "output_type": "error",
     "traceback": [
      "\u001b[1;31m---------------------------------------------------------------------------\u001b[0m",
      "\u001b[1;31mNameError\u001b[0m                                 Traceback (most recent call last)",
      "Cell \u001b[1;32mIn[28], line 13\u001b[0m\n\u001b[0;32m     11\u001b[0m y \u001b[38;5;241m=\u001b[39m od[\u001b[38;5;124m'\u001b[39m\u001b[38;5;124mLatitude\u001b[39m\u001b[38;5;124m'\u001b[39m]\n\u001b[0;32m     12\u001b[0m z \u001b[38;5;241m=\u001b[39m od[\u001b[38;5;124m'\u001b[39m\u001b[38;5;124mCounty\u001b[39m\u001b[38;5;124m'\u001b[39m]\n\u001b[1;32m---> 13\u001b[0m plt\u001b[38;5;241m.\u001b[39mscatter(x, y, s\u001b[38;5;241m=\u001b[39m\u001b[38;5;241m20\u001b[39m\u001b[38;5;241m*\u001b[39mz, c\u001b[38;5;241m=\u001b[39mz, alpha\u001b[38;5;241m=\u001b[39m\u001b[38;5;241m0.6\u001b[39m, vmin\u001b[38;5;241m=\u001b[39m\u001b[38;5;241m0\u001b[39m, vmax\u001b[38;5;241m=\u001b[39m\u001b[43mthreshold\u001b[49m,\n\u001b[0;32m     14\u001b[0m             cmap\u001b[38;5;241m=\u001b[39m\u001b[38;5;124m'\u001b[39m\u001b[38;5;124mautumn\u001b[39m\u001b[38;5;124m'\u001b[39m)\n\u001b[0;32m     15\u001b[0m plt\u001b[38;5;241m.\u001b[39mcolorbar(label\u001b[38;5;241m=\u001b[39m\u001b[38;5;124m'\u001b[39m\u001b[38;5;124mCounty\u001b[39m\u001b[38;5;124m'\u001b[39m)\n\u001b[0;32m     17\u001b[0m \u001b[38;5;66;03m# Creating axis limits and title\u001b[39;00m\n",
      "\u001b[1;31mNameError\u001b[0m: name 'threshold' is not defined"
     ]
    },
    {
     "data": {
      "image/png": "[encoded data removed]",
      "text/plain": [
       "<Figure size 1200x600 with 1 Axes>"
      ]
     },
     "metadata": {},
     "output_type": "display_data"
    }
   ],
   "source": [
    "# From GeoPandas, our world map data\n",
    "worldmap = gpd.read_file(gpd.datasets.get_path(\"naturalearth_lowres\"))\n",
    "\n",
    "\n",
    "# Creating axes and plotting world map\n",
    "fig, ax = plt.subplots(figsize=(12, 6))\n",
    "worldmap.plot(color=\"lightgrey\", ax=ax)\n",
    "\n",
    "# Plotting our Impact Energy data with a color map\n",
    "x = od['Longitude']\n",
    "y = od['Latitude']\n",
    "z = od['County']\n",
    "plt.scatter(x, y, s=20*z, c=z, alpha=0.6, vmin=0, vmax=threshold,\n",
    "            cmap='autumn')\n",
    "plt.colorbar(label='County')\n",
    "\n",
    "# Creating axis limits and title\n",
    "plt.xlim([-180, 180])\n",
    "plt.ylim([-90, 90])\n",
    "\n",
    "first_year = df[\"Datetime\"].min().strftime(\"%Y\")\n",
    "last_year = df[\"Datetime\"].max().strftime(\"%Y\")\n",
    "plt.title(\"NASA: Fireballs Reported by Government Sensors\\n\" +     \n",
    "          str(first_year) + \" - \" + str(last_year))\n",
    "plt.xlabel(\"Longitude\")\n",
    "plt.ylabel(\"Latitude\")\n",
    "plt.show()"
   ]
  },
  {
   "cell_type": "code",
   "execution_count": null,
   "id": "4c5488a9",
   "metadata": {},
   "outputs": [],
   "source": [
    "usa_cities = gpd.read_file(gplt.datasets.get_path('usa_cities'))\n",
    "usa_cities.head()"
   ]
  },
  {
   "cell_type": "code",
   "execution_count": null,
   "id": "34df4007",
   "metadata": {},
   "outputs": [],
   "source": [
    "world = gpd.read_file(gpd.datasets.get_path('naturalearth_lowres'))\n",
    "world.head()"
   ]
  },
  {
   "cell_type": "code",
   "execution_count": null,
   "id": "63fd9295",
   "metadata": {},
   "outputs": [],
   "source": [
    "usa = world[world.name == \"United States of America\"]"
   ]
  },
  {
   "cell_type": "code",
   "execution_count": null,
   "id": "3770ca74",
   "metadata": {},
   "outputs": [],
   "source": [
    "world[world[\"name\"] == \"United States of America\"].plot(color=\"lightgrey\")"
   ]
  },
  {
   "cell_type": "code",
   "execution_count": null,
   "id": "1b314163",
   "metadata": {},
   "outputs": [],
   "source": [
    "# initialize an axis\n",
    "fig, ax = plt.subplots(figsize=(8,6))\n",
    "# plot map on axis\n",
    "world = gpd.read_file(gpd.datasets.get_path('naturalearth_lowres'))\n",
    "world[world[\"name\"] == \"United States of America\"].plot(color=\"lightgrey\", ax=ax)\n",
    "\n",
    "# parse dates for plot's title\n",
    "first_month = df[\"acq_date\"].min().strftime(\"%b %Y\")\n",
    "last_month = df[\"acq_date\"].max().strftime(\"%b %Y\")\n",
    "# plot points\n",
    "df.plot(x=\"longitude\", y=\"latitude\", kind=\"scatter\", \n",
    "        c=\"brightness\", colormap=\"YlOrRd\", \n",
    "        title=f\"Fires in Australia {first_month} to {last_month}\", \n",
    "        ax=ax)\n",
    "# add grid\n",
    "ax.grid(b=True, alpha=0.5)\n",
    "plt.show()"
   ]
  },
  {
   "cell_type": "code",
   "execution_count": null,
   "id": "9b668dbe",
   "metadata": {},
   "outputs": [],
   "source": []
  },
  {
   "cell_type": "markdown",
   "id": "313a46db",
   "metadata": {},
   "source": [
    "<h2>Conclusion </h2>\n",
    "<hr>"
   ]
  },
  {
   "cell_type": "markdown",
   "id": "8bb61a4a",
   "metadata": {},
   "source": [
    "In Progress"
   ]
  },
  {
   "cell_type": "markdown",
   "id": "11ca1f03",
   "metadata": {},
   "source": [
    "<h2>References</h2>\n",
    "<hr>\n",
    "\n",
    "The references below were all gathered in November 2022 and December 2022.\n",
    "\n",
    "https://datasetsearch.research.google.com/\n",
    "\n",
    "https://datasetsearch.research.google.com/search?src=0&query=bariatric%20surgery%20&docid=L2cvMTFzMHdjczY3bg%3D%3D\n",
    "\n",
    "https://data.ca.gov/dataset/number-of-weight-loss-surgeries-performed-in-california-hospitals\n",
    "\n",
    "https://data.world/datasets/obesity\n",
    "\n",
    "https://chronicdata.cdc.gov/browse?category=Nutrition%2C+Physical+Activity%2C+and+Obesity\n",
    "\n",
    "https://www.mdpi.com/1424-8220/20/9/2734/htm\n",
    "\n",
    "https://stackoverflow.com/\n",
    "\n",
    "https://pandas.pydata.org/\n",
    "\n",
    "https://queirozf.com/entries/pandas-dataframe-plot-examples-with-matplotlib-pyplot\n",
    "\n",
    "https://favtutor.com/blogs/pandas-unique-values-in-column\n",
    "\n",
    "https://stackoverflow.com/questions/39396678/adding-lat-lon-coordinates-to-separate-columns-python-dataframe\n",
    "\n",
    "https://cmdlinetips.com/2018/11/how-to-split-a-text-column-in-pandas/\n",
    "\n",
    "https://towardsdatascience.com/the-easiest-way-to-plot-data-from-pandas-on-a-world-map-1a62962a27f3\n",
    "\n",
    "https://jcutrer.com/python/learn-geopandas-plotting-usmaps\n",
    "\n",
    "https://deepnote.com/@iracistensjo/Geopandas-installation-guide-00272a08-4a13-479d-9970-25c4689b6da0\n",
    "\n",
    "https://medium.com/analytics-vidhya/fastest-way-to-install-geopandas-in-jupyter-notebook-on-windows-8f734e11fa2b\n",
    "\n",
    "Hands-On Machine Learning with Scikit-Learn, Keras, and TensorFlow, 2nd Edition\n",
    "by Aurélien Géron\n",
    "Released September 2019\n",
    "Publisher(s): O'Reilly Media, Inc.\n",
    "ISBN: 9781492032649\n",
    "\n",
    "Title: Think Stats, 2nd Edition: Exploratory Data Analysis in Python\n",
    "Author(s) Allen B. Downey\n",
    "Publisher: O'Reilly Media; 2 edition (November 7, 2014)\n",
    "ISBN-10: 1491907339\n",
    "ISBN-13: 978-149190733\n",
    "\n",
    "Practical Statistics for Data Scientists, 2nd Edition\n",
    "by Peter Bruce, Andrew Bruce, Peter Gedeck\n",
    "Released May 2020\n",
    "Publisher(s): O'Reilly Media, Inc.\n",
    "ISBN: 9781492072942"
   ]
  }
 ],
 "metadata": {
  "kernelspec": {
   "display_name": "geo_env",
   "language": "python",
   "name": "geo_env"
  },
  "language_info": {
   "codemirror_mode": {
    "name": "ipython",
    "version": 3
   },
   "file_extension": ".py",
   "mimetype": "text/x-python",
   "name": "python",
   "nbconvert_exporter": "python",
   "pygments_lexer": "ipython3",
   "version": "3.11.0"
  }
 },
 "nbformat": 4,
 "nbformat_minor": 5
}
